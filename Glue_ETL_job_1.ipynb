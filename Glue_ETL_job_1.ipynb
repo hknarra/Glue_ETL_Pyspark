{
  "nbformat": 4,
  "nbformat_minor": 0,
  "metadata": {
    "colab": {
      "name": "Glue_ETL_job_1.ipynb",
      "provenance": [],
      "collapsed_sections": []
    },
    "kernelspec": {
      "name": "python3",
      "display_name": "Python 3"
    },
    "language_info": {
      "name": "python"
    }
  },
  "cells": [
    {
      "cell_type": "code",
      "execution_count": null,
      "metadata": {
        "id": "5bnGNmsrbLPe"
      },
      "outputs": [],
      "source": [
        "# import \n",
        "import sys\n",
        "from awsglue.transforms import *\n",
        "from awsglue.utils import getResolvedOptions\n",
        "from pyspark.context import SparkContext\n",
        "from awsglue.context import GlueContext\n",
        "from awsglue.job import Job\n",
        "\n",
        "glueContext = GlueContext(SparkContext.getOrCreate())"
      ]
    },
    {
      "cell_type": "code",
      "source": [
        "# cerate DataFrames for Salels, customer\n",
        "salesDF = glueContext.create_dynamic_frame.from_catalog(\n",
        "             database=\"retaildatabase\",\n",
        "             table_name=\"sales\")\n",
        "customerDF = glueContext.create_dynamic_frame.from_catalog(\n",
        "             database=\"retaildatabase\",\n",
        "             table_name=\"customers\")"
      ],
      "metadata": {
        "id": "oOyEl89Dbb7G"
      },
      "execution_count": null,
      "outputs": []
    },
    {
      "cell_type": "code",
      "source": [
        "# printt schema\n",
        "salesDF.printSchema()\n",
        "customerDF.printSchema()"
      ],
      "metadata": {
        "id": "cchKI_DFbuGA"
      },
      "execution_count": null,
      "outputs": []
    },
    {
      "cell_type": "code",
      "source": [
        "# join sales, customers dataframe\n",
        "customersalesDF=Join.apply(salesDF, customerDF, 'customerid', 'customerid')"
      ],
      "metadata": {
        "id": "w3KFrw4_cO0n"
      },
      "execution_count": null,
      "outputs": []
    },
    {
      "cell_type": "code",
      "source": [
        "# drop customer id column\n",
        "customersalesDF = customersalesDF.drop_fields(['`.customerid`'])"
      ],
      "metadata": {
        "id": "xtGxI_PycTkA"
      },
      "execution_count": null,
      "outputs": []
    },
    {
      "cell_type": "code",
      "source": [
        "# write to S3 target location\n",
        "glueContext.write_dynamic_frame.from_options(customersalesDF, connection_type = \"s3\", connection_options = {\"path\": \"s3://sales-cust-data-lake/data/customersales\"}, format = \"json\")"
      ],
      "metadata": {
        "id": "TZp5Y5tXcopR"
      },
      "execution_count": null,
      "outputs": []
    }
  ]
}